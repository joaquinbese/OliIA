{
 "cells": [
  {
   "attachments": {},
   "cell_type": "markdown",
   "metadata": {},
   "source": [
    "librerias"
   ]
  },
  {
   "cell_type": "code",
   "execution_count": null,
   "metadata": {},
   "outputs": [],
   "source": [
    "from pydub import AudioSegment\n",
    "from pydub.utils import make_chunks\n",
    "import os\n",
    "import youtube_dl\n",
    "import tempfile\n",
    "import openai\n",
    "from pytube import YouTube\n",
    "import speech_recognition as sr\n",
    "\n"
   ]
  },
  {
   "attachments": {},
   "cell_type": "markdown",
   "metadata": {},
   "source": [
    "seccion descarga de video"
   ]
  },
  {
   "cell_type": "code",
   "execution_count": null,
   "metadata": {},
   "outputs": [],
   "source": [
    "\n",
    "link = input(\"enlace youtube:\\n\")\n",
    "yt=YouTube(link)\n",
    "t=yt.streams.filter(only_audio=True).all()\n",
    "\n",
    "t[0].download()\n"
   ]
  },
  {
   "attachments": {},
   "cell_type": "markdown",
   "metadata": {},
   "source": [
    "extraccion del audio"
   ]
  },
  {
   "cell_type": "code",
   "execution_count": null,
   "metadata": {},
   "outputs": [],
   "source": [
    "def extraer_audio(video_path, audio_path):\n",
    "    video = AudioSegment.from_file(video_path)\n",
    "    audio = video.set_channels(1)  # Convertir a mono (un solo canal de audio)\n",
    "    \n",
    "    # Dividir el audio en pequeños segmentos de 10 segundos (ajusta según tus necesidades)\n",
    "    segmentos = make_chunks(audio, 10000)  # 10 segundos = 10000 milisegundos\n",
    "    \n",
    "    # Concatenar los segmentos en un solo audio\n",
    "    audio_final = segmentos[0]\n",
    "    for segmento in segmentos[1:]:\n",
    "        audio_final += segmento\n",
    "    \n",
    "    # Guardar el audio final en el archivo especificado\n",
    "    audio_final.export(audio_path, format=\"wav\")\n",
    "    \n",
    "    return \"Se ha extraído el audio correctamente.\"\n",
    "\n",
    "video_path = \"/home/joaquin/Documentos/python/hackaton/ias/¿CÓMO ES VIVIR PESANDO CASI 140KG - Joan Pradells explica las dificultades cotidianas que vive.mp4\"  # Ruta al video en el disco\n",
    "audio_path = \"/home/joaquin/Documentos/python/hackaton/ias/web/audio.mp3\"  # Ruta donde se guardará el archivo de audio extraído\n",
    "\n",
    "resultado = extraer_audio(video_path, audio_path)\n",
    "print(resultado)"
   ]
  },
  {
   "attachments": {},
   "cell_type": "markdown",
   "metadata": {},
   "source": [
    "extraccion del texto"
   ]
  },
  {
   "cell_type": "code",
   "execution_count": null,
   "metadata": {},
   "outputs": [],
   "source": [
    "def transcribir_audio(audio_path):\n",
    "    r = sr.Recognizer()\n",
    "    with sr.AudioFile(audio_path) as source:\n",
    "        audio = r.record(source)\n",
    "        texto_transcrito = r.recognize_google(audio, language=\"es-ES\")  # Utiliza el reconocimiento de Google con el idioma adecuado\n",
    "    \n",
    "    # Guardar el texto transcrito en un archivo de texto\n",
    "    archivo_salida = \"texto_transcrito.txt\"\n",
    "    with open(archivo_salida, \"w\") as archivo:\n",
    "        archivo.write(texto_transcrito)\n",
    "    \n",
    "    return texto_transcrito\n",
    "\n",
    "# Ejemplo de uso\n",
    "\n",
    "audio_path = \"web/audio.mp3\"\n",
    "texto_transcrito = transcribir_audio(audio_path)\n",
    "print(\"Texto transcrito:\")\n",
    "print(texto_transcrito)\n",
    "print(\"El texto transcrito se ha guardado en el archivo texto_transcrito.txt\")\n"
   ]
  }
 ],
 "metadata": {
  "language_info": {
   "name": "python"
  },
  "orig_nbformat": 4
 },
 "nbformat": 4,
 "nbformat_minor": 2
}
